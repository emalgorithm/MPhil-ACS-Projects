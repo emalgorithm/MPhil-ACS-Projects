{
 "cells": [
  {
   "cell_type": "markdown",
   "metadata": {},
   "source": [
    "# Sentiment Classification with Multinomial Naive Bayes"
   ]
  },
  {
   "cell_type": "code",
   "execution_count": 23,
   "metadata": {},
   "outputs": [],
   "source": [
    "import os\n",
    "import numpy as np"
   ]
  },
  {
   "cell_type": "markdown",
   "metadata": {},
   "source": [
    "## Data and Features Extraction"
   ]
  },
  {
   "cell_type": "code",
   "execution_count": 24,
   "metadata": {},
   "outputs": [],
   "source": [
    "data_path = 'datasets/data-tagged/'"
   ]
  },
  {
   "cell_type": "code",
   "execution_count": 63,
   "metadata": {},
   "outputs": [],
   "source": [
    "def process_file(filepath):\n",
    "    \"\"\"Given a file, returns a list of tokens for that file\"\"\"\n",
    "    x = []\n",
    "    with open(filepath, 'r') as f:\n",
    "        for l in f:\n",
    "            # Filter lines which consist only of new line operator\n",
    "            if l == '\\n':\n",
    "                continue\n",
    "            \n",
    "            token, pos_tagging = l.split('\\t')\n",
    "            x.append(token)\n",
    "    return x\n",
    "\n",
    "def preprocess_data(datapath, sentiment='POS'):\n",
    "    idx = 0\n",
    "    X = []\n",
    "    y = []\n",
    "    sentiment_value = 1 if sentiment == 'POS' else 0\n",
    "    \n",
    "    # For file in the folder\n",
    "    current_path = datapath + sentiment\n",
    "    for f in os.listdir(current_path):\n",
    "        x = process_file(current_path + '/' + f)\n",
    "        X.append(x)\n",
    "        y.append(sentiment_value)\n",
    "\n",
    "    return X, y\n",
    "\n",
    "def get_dictionary(X):\n",
    "    \"\"\"Returns a dictionary which maps each token to its index in the feature space, along with a list of all features (tokens) in order\"\"\"\n",
    "    idx = 0\n",
    "    token_to_idx = {}\n",
    "    features = []\n",
    "    \n",
    "    for x in X:\n",
    "        for token in x:\n",
    "            if token not in token_to_idx:\n",
    "                token_to_idx[token] = idx\n",
    "                idx += 1\n",
    "                features.append(token)\n",
    "    \n",
    "    return token_to_idx, features\n",
    "\n",
    "def featurize_data(X, features, token_to_idx):\n",
    "    \"\"\"Convert each sample from a list of tokens to a multinomial bag of words representation\"\"\"\n",
    "    X_feat = []\n",
    "    for x in X:\n",
    "        x_feat = np.zeros((len(features)))\n",
    "        for token in x:\n",
    "            x_feat[token_to_idx[token]] += 1\n",
    "        X_feat.append(x_feat)\n",
    "    \n",
    "    return X_feat"
   ]
  },
  {
   "cell_type": "code",
   "execution_count": 64,
   "metadata": {},
   "outputs": [],
   "source": [
    "X_pos, y_pos = preprocess_data(data_path, 'POS')\n",
    "X_neg, y_neg = preprocess_data(data_path, 'NEG')"
   ]
  },
  {
   "cell_type": "code",
   "execution_count": 65,
   "metadata": {},
   "outputs": [],
   "source": [
    "X = X_pos + X_neg\n",
    "y = y_pos + y_neg"
   ]
  },
  {
   "cell_type": "code",
   "execution_count": 66,
   "metadata": {},
   "outputs": [],
   "source": [
    "token_to_idx, features = get_dictionary(X)"
   ]
  },
  {
   "cell_type": "code",
   "execution_count": 67,
   "metadata": {},
   "outputs": [],
   "source": [
    "X_feat = featurize_data(X, features, token_to_idx)"
   ]
  },
  {
   "cell_type": "code",
   "execution_count": 68,
   "metadata": {},
   "outputs": [],
   "source": [
    "assert(sum(X_feat[0]) != 0)"
   ]
  },
  {
   "cell_type": "markdown",
   "metadata": {},
   "source": [
    "## Multinomial Naive Bayes Model"
   ]
  },
  {
   "cell_type": "code",
   "execution_count": 72,
   "metadata": {},
   "outputs": [],
   "source": [
    "class MultinomialNaiveBayes():\n",
    "    pass"
   ]
  },
  {
   "cell_type": "code",
   "execution_count": null,
   "metadata": {},
   "outputs": [],
   "source": []
  }
 ],
 "metadata": {
  "kernelspec": {
   "display_name": "Python 3",
   "language": "python",
   "name": "python3"
  },
  "language_info": {
   "codemirror_mode": {
    "name": "ipython",
    "version": 3
   },
   "file_extension": ".py",
   "mimetype": "text/x-python",
   "name": "python",
   "nbconvert_exporter": "python",
   "pygments_lexer": "ipython3",
   "version": "3.6.4"
  }
 },
 "nbformat": 4,
 "nbformat_minor": 2
}
